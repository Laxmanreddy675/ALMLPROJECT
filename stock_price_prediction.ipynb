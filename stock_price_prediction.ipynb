{
 "cells": [
  {
   "cell_type": "code",
   "execution_count": null,
   "metadata": {
    "colab": {
     "base_uri": "https://localhost:8080/",
     "height": 138
    },
    "colab_type": "code",
    "id": "GGO14yOBYiC1",
    "outputId": "ec95092a-707e-45c3-bb29-7da8338a8ab5"
   },
   "outputs": [
    {
     "name": "stdout",
     "output_type": "stream",
     "text": [
      "Go to this URL in a browser: https://accounts.google.com/o/oauth2/auth?client_id=947318989803-6bn6qk8qdgf4n4g3pfee6491hc0brc4i.apps.googleusercontent.com&redirect_uri=urn%3aietf%3awg%3aoauth%3a2.0%3aoob&response_type=code&scope=email%20https%3a%2f%2fwww.googleapis.com%2fauth%2fdocs.test%20https%3a%2f%2fwww.googleapis.com%2fauth%2fdrive%20https%3a%2f%2fwww.googleapis.com%2fauth%2fdrive.photos.readonly%20https%3a%2f%2fwww.googleapis.com%2fauth%2fpeopleapi.readonly\n",
      "\n",
      "Enter your authorization code:\n",
      "··········\n",
      "Mounted at /gdrive\n",
      "/gdrive\n"
     ]
    }
   ],
   "source": [
    "from google.colab import drive\n",
    "drive.mount('/gdrive')\n",
    "%cd /gdrive"
   ]
  },
  {
   "cell_type": "code",
   "execution_count": null,
   "metadata": {
    "colab": {
     "base_uri": "https://localhost:8080/",
     "height": 34
    },
    "colab_type": "code",
    "id": "UPcUWFb7YxsW",
    "outputId": "d63ed23c-e8a1-4679-c721-5dbbd55062f6"
   },
   "outputs": [
    {
     "data": {
      "text/plain": [
       "(619040, 7)"
      ]
     },
     "execution_count": 3,
     "metadata": {
      "tags": []
     },
     "output_type": "execute_result"
    }
   ],
   "source": [
    "# all_stocks_5yr.csv\n",
    "import pandas as pd\n",
    "data = pd.read_csv('My Drive/all_stocks_5yr.csv')\n",
    "data.shape"
   ]
  },
  {
   "cell_type": "code",
   "execution_count": null,
   "metadata": {
    "colab": {
     "base_uri": "https://localhost:8080/",
     "height": 195
    },
    "colab_type": "code",
    "id": "zioCYtEtautk",
    "outputId": "33052126-45e8-405b-b767-f4d62770fc90"
   },
   "outputs": [
    {
     "data": {
      "text/html": [
       "<div>\n",
       "<style scoped>\n",
       "    .dataframe tbody tr th:only-of-type {\n",
       "        vertical-align: middle;\n",
       "    }\n",
       "\n",
       "    .dataframe tbody tr th {\n",
       "        vertical-align: top;\n",
       "    }\n",
       "\n",
       "    .dataframe thead th {\n",
       "        text-align: right;\n",
       "    }\n",
       "</style>\n",
       "<table border=\"1\" class=\"dataframe\">\n",
       "  <thead>\n",
       "    <tr style=\"text-align: right;\">\n",
       "      <th></th>\n",
       "      <th>date</th>\n",
       "      <th>open</th>\n",
       "      <th>high</th>\n",
       "      <th>low</th>\n",
       "      <th>close</th>\n",
       "      <th>volume</th>\n",
       "      <th>Name</th>\n",
       "    </tr>\n",
       "  </thead>\n",
       "  <tbody>\n",
       "    <tr>\n",
       "      <th>0</th>\n",
       "      <td>2013-02-08</td>\n",
       "      <td>15.07</td>\n",
       "      <td>15.12</td>\n",
       "      <td>14.63</td>\n",
       "      <td>14.75</td>\n",
       "      <td>8407500</td>\n",
       "      <td>AAL</td>\n",
       "    </tr>\n",
       "    <tr>\n",
       "      <th>1</th>\n",
       "      <td>2013-02-11</td>\n",
       "      <td>14.89</td>\n",
       "      <td>15.01</td>\n",
       "      <td>14.26</td>\n",
       "      <td>14.46</td>\n",
       "      <td>8882000</td>\n",
       "      <td>AAL</td>\n",
       "    </tr>\n",
       "    <tr>\n",
       "      <th>2</th>\n",
       "      <td>2013-02-12</td>\n",
       "      <td>14.45</td>\n",
       "      <td>14.51</td>\n",
       "      <td>14.10</td>\n",
       "      <td>14.27</td>\n",
       "      <td>8126000</td>\n",
       "      <td>AAL</td>\n",
       "    </tr>\n",
       "    <tr>\n",
       "      <th>3</th>\n",
       "      <td>2013-02-13</td>\n",
       "      <td>14.30</td>\n",
       "      <td>14.94</td>\n",
       "      <td>14.25</td>\n",
       "      <td>14.66</td>\n",
       "      <td>10259500</td>\n",
       "      <td>AAL</td>\n",
       "    </tr>\n",
       "    <tr>\n",
       "      <th>4</th>\n",
       "      <td>2013-02-14</td>\n",
       "      <td>14.94</td>\n",
       "      <td>14.96</td>\n",
       "      <td>13.16</td>\n",
       "      <td>13.99</td>\n",
       "      <td>31879900</td>\n",
       "      <td>AAL</td>\n",
       "    </tr>\n",
       "  </tbody>\n",
       "</table>\n",
       "</div>"
      ],
      "text/plain": [
       "         date   open   high    low  close    volume Name\n",
       "0  2013-02-08  15.07  15.12  14.63  14.75   8407500  AAL\n",
       "1  2013-02-11  14.89  15.01  14.26  14.46   8882000  AAL\n",
       "2  2013-02-12  14.45  14.51  14.10  14.27   8126000  AAL\n",
       "3  2013-02-13  14.30  14.94  14.25  14.66  10259500  AAL\n",
       "4  2013-02-14  14.94  14.96  13.16  13.99  31879900  AAL"
      ]
     },
     "execution_count": 4,
     "metadata": {
      "tags": []
     },
     "output_type": "execute_result"
    }
   ],
   "source": [
    "# Top Five rows\n",
    "data.head()"
   ]
  },
  {
   "cell_type": "code",
   "execution_count": null,
   "metadata": {
    "colab": {
     "base_uri": "https://localhost:8080/",
     "height": 34
    },
    "colab_type": "code",
    "id": "x7JY4XgRbi0N",
    "outputId": "a4ef33bb-5206-4074-ae75-c56df88e7613"
   },
   "outputs": [
    {
     "data": {
      "text/plain": [
       "Index(['date', 'open', 'high', 'low', 'close', 'volume', 'Name'], dtype='object')"
      ]
     },
     "execution_count": 5,
     "metadata": {
      "tags": []
     },
     "output_type": "execute_result"
    }
   ],
   "source": [
    "data.columns"
   ]
  },
  {
   "cell_type": "code",
   "execution_count": null,
   "metadata": {
    "colab": {
     "base_uri": "https://localhost:8080/",
     "height": 34
    },
    "colab_type": "code",
    "id": "MbG5kb4Ubuip",
    "outputId": "d8a6d07f-b58d-4c99-de85-3c1cbb4aee56"
   },
   "outputs": [
    {
     "data": {
      "text/plain": [
       "505"
      ]
     },
     "execution_count": 6,
     "metadata": {
      "tags": []
     },
     "output_type": "execute_result"
    }
   ],
   "source": [
    "### How many company's data we have here?\n",
    "data.Name.nunique()"
   ]
  },
  {
   "cell_type": "code",
   "execution_count": null,
   "metadata": {
    "colab": {
     "base_uri": "https://localhost:8080/",
     "height": 34
    },
    "colab_type": "code",
    "id": "zkUPpXY4b5Xp",
    "outputId": "ef9bb8b2-b579-45cc-bf71-867ef49b5ddd"
   },
   "outputs": [
    {
     "data": {
      "text/plain": [
       "(1259, 7)"
      ]
     },
     "execution_count": 7,
     "metadata": {
      "tags": []
     },
     "output_type": "execute_result"
    }
   ],
   "source": [
    "## Selecting the data XRX\n",
    "df = data[data['Name']=='XRX']\n",
    "df.shape"
   ]
  },
  {
   "cell_type": "code",
   "execution_count": null,
   "metadata": {
    "colab": {
     "base_uri": "https://localhost:8080/",
     "height": 34
    },
    "colab_type": "code",
    "id": "lS3BwNeHcZoZ",
    "outputId": "0ebc4fef-b675-40d8-c6a0-85d4b6ae6976"
   },
   "outputs": [
    {
     "data": {
      "text/plain": [
       "Index(['date', 'open', 'high', 'low', 'close', 'volume', 'Name'], dtype='object')"
      ]
     },
     "execution_count": 8,
     "metadata": {
      "tags": []
     },
     "output_type": "execute_result"
    }
   ],
   "source": [
    "df.columns"
   ]
  },
  {
   "cell_type": "code",
   "execution_count": null,
   "metadata": {
    "colab": {
     "base_uri": "https://localhost:8080/",
     "height": 402
    },
    "colab_type": "code",
    "id": "7TkSMBwEcfo6",
    "outputId": "d6086a41-33dd-46ef-f9cb-236d48457e73"
   },
   "outputs": [
    {
     "data": {
      "text/html": [
       "<div>\n",
       "<style scoped>\n",
       "    .dataframe tbody tr th:only-of-type {\n",
       "        vertical-align: middle;\n",
       "    }\n",
       "\n",
       "    .dataframe tbody tr th {\n",
       "        vertical-align: top;\n",
       "    }\n",
       "\n",
       "    .dataframe thead th {\n",
       "        text-align: right;\n",
       "    }\n",
       "</style>\n",
       "<table border=\"1\" class=\"dataframe\">\n",
       "  <thead>\n",
       "    <tr style=\"text-align: right;\">\n",
       "      <th></th>\n",
       "      <th>date</th>\n",
       "      <th>close</th>\n",
       "    </tr>\n",
       "  </thead>\n",
       "  <tbody>\n",
       "    <tr>\n",
       "      <th>611486</th>\n",
       "      <td>2013-02-08</td>\n",
       "      <td>31.84</td>\n",
       "    </tr>\n",
       "    <tr>\n",
       "      <th>611487</th>\n",
       "      <td>2013-02-11</td>\n",
       "      <td>31.96</td>\n",
       "    </tr>\n",
       "    <tr>\n",
       "      <th>611488</th>\n",
       "      <td>2013-02-12</td>\n",
       "      <td>31.84</td>\n",
       "    </tr>\n",
       "    <tr>\n",
       "      <th>611489</th>\n",
       "      <td>2013-02-13</td>\n",
       "      <td>32.00</td>\n",
       "    </tr>\n",
       "    <tr>\n",
       "      <th>611490</th>\n",
       "      <td>2013-02-14</td>\n",
       "      <td>32.12</td>\n",
       "    </tr>\n",
       "    <tr>\n",
       "      <th>...</th>\n",
       "      <td>...</td>\n",
       "      <td>...</td>\n",
       "    </tr>\n",
       "    <tr>\n",
       "      <th>612740</th>\n",
       "      <td>2018-02-01</td>\n",
       "      <td>32.75</td>\n",
       "    </tr>\n",
       "    <tr>\n",
       "      <th>612741</th>\n",
       "      <td>2018-02-02</td>\n",
       "      <td>31.63</td>\n",
       "    </tr>\n",
       "    <tr>\n",
       "      <th>612742</th>\n",
       "      <td>2018-02-05</td>\n",
       "      <td>31.38</td>\n",
       "    </tr>\n",
       "    <tr>\n",
       "      <th>612743</th>\n",
       "      <td>2018-02-06</td>\n",
       "      <td>30.85</td>\n",
       "    </tr>\n",
       "    <tr>\n",
       "      <th>612744</th>\n",
       "      <td>2018-02-07</td>\n",
       "      <td>31.18</td>\n",
       "    </tr>\n",
       "  </tbody>\n",
       "</table>\n",
       "<p>1259 rows × 2 columns</p>\n",
       "</div>"
      ],
      "text/plain": [
       "              date  close\n",
       "611486  2013-02-08  31.84\n",
       "611487  2013-02-11  31.96\n",
       "611488  2013-02-12  31.84\n",
       "611489  2013-02-13  32.00\n",
       "611490  2013-02-14  32.12\n",
       "...            ...    ...\n",
       "612740  2018-02-01  32.75\n",
       "612741  2018-02-02  31.63\n",
       "612742  2018-02-05  31.38\n",
       "612743  2018-02-06  30.85\n",
       "612744  2018-02-07  31.18\n",
       "\n",
       "[1259 rows x 2 columns]"
      ]
     },
     "execution_count": 9,
     "metadata": {
      "tags": []
     },
     "output_type": "execute_result"
    }
   ],
   "source": [
    "#select the columns date and close price\n",
    "df = df[['date','close']]\n",
    "df"
   ]
  },
  {
   "cell_type": "code",
   "execution_count": null,
   "metadata": {
    "colab": {
     "base_uri": "https://localhost:8080/",
     "height": 282
    },
    "colab_type": "code",
    "id": "jRx9k0E3c2ba",
    "outputId": "9adeb336-d5bd-405e-f063-27a677e90314"
   },
   "outputs": [
    {
     "data": {
      "text/plain": [
       "[<matplotlib.lines.Line2D at 0x7f6a6ac77f60>]"
      ]
     },
     "execution_count": 10,
     "metadata": {
      "tags": []
     },
     "output_type": "execute_result"
    },
    {
     "data": {
      "image/png": "[encoded data removed]",
      "text/plain": [
       "<Figure size 432x288 with 1 Axes>"
      ]
     },
     "metadata": {
      "needs_background": "light",
      "tags": []
     },
     "output_type": "display_data"
    }
   ],
   "source": [
    "# Line plot\n",
    "import matplotlib.pyplot as plt\n",
    "plt.plot(df['date'],df['close'])"
   ]
  },
  {
   "cell_type": "code",
   "execution_count": null,
   "metadata": {
    "colab": {
     "base_uri": "https://localhost:8080/",
     "height": 67
    },
    "colab_type": "code",
    "id": "2ljL4mZ-c-h5",
    "outputId": "29e712f9-be52-4eda-f379-880780ca76a2"
   },
   "outputs": [
    {
     "data": {
      "text/plain": [
       "date     0\n",
       "close    0\n",
       "dtype: int64"
      ]
     },
     "execution_count": 11,
     "metadata": {
      "tags": []
     },
     "output_type": "execute_result"
    }
   ],
   "source": [
    "### Missing values in the data\n",
    "df.isnull().sum()"
   ]
  },
  {
   "cell_type": "code",
   "execution_count": null,
   "metadata": {
    "colab": {
     "base_uri": "https://localhost:8080/",
     "height": 202
    },
    "colab_type": "code",
    "id": "SSDtRhnKWs5Y",
    "outputId": "290fa7da-53bf-429b-edb7-e571b46af0c5"
   },
   "outputs": [
    {
     "data": {
      "text/plain": [
       "611486    2013-02-08\n",
       "611487    2013-02-11\n",
       "611488    2013-02-12\n",
       "611489    2013-02-13\n",
       "611490    2013-02-14\n",
       "611491    2013-02-15\n",
       "611492    2013-02-19\n",
       "611493    2013-02-20\n",
       "611494    2013-02-21\n",
       "611495    2013-02-22\n",
       "Name: date, dtype: object"
      ]
     },
     "execution_count": 12,
     "metadata": {
      "tags": []
     },
     "output_type": "execute_result"
    }
   ],
   "source": [
    "df.date[:10]"
   ]
  },
  {
   "cell_type": "code",
   "execution_count": null,
   "metadata": {
    "colab": {
     "base_uri": "https://localhost:8080/",
     "height": 302
    },
    "colab_type": "code",
    "id": "zJftsnQJXX-c",
    "outputId": "c6301190-4ea4-488e-d4c9-8453364ddd77"
   },
   "outputs": [
    {
     "name": "stdout",
     "output_type": "stream",
     "text": [
      "[611486    31.84\n",
      "611487    31.96\n",
      "611488    31.84\n",
      "611489    32.00\n",
      "611490    32.12\n",
      "611491    31.88\n",
      "611492    32.00\n",
      "611493    31.44\n",
      "Name: close, dtype: float64, 611487    31.96\n",
      "611488    31.84\n",
      "611489    32.00\n",
      "611490    32.12\n",
      "611491    31.88\n",
      "611492    32.00\n",
      "611493    31.44\n",
      "611494    31.36\n",
      "Name: close, dtype: float64]\n"
     ]
    }
   ],
   "source": [
    "## Preparing the data\n",
    "## Features and target\n",
    "## Input and output\n",
    "## last 8 days data as input\n",
    "## X -- [[d1-d8],[d10,d18],[d20,28]....]\n",
    "## y -- [d9,d19,d29,...]\n",
    "\n",
    "## X = [[d1-d8],[d2-d9],]\n",
    "## y = [d9,d10]\n",
    "X = [] ## input\n",
    "y = [] ## ouput\n",
    "for i  in range(df.shape[0]-8-1):   \n",
    "  X.append(df['close'].iloc[i:i+8])# 0 -->[0:8], 1-->[1:9]\n",
    "  y.append(df['close'].iloc[i+8])# 8,9,10\n",
    "print(X[:2])"
   ]
  },
  {
   "cell_type": "code",
   "execution_count": null,
   "metadata": {
    "colab": {},
    "colab_type": "code",
    "id": "dlH1abEWYkfC"
   },
   "outputs": [],
   "source": [
    "import numpy as np\n",
    "X = np.array(X)"
   ]
  },
  {
   "cell_type": "code",
   "execution_count": null,
   "metadata": {
    "colab": {
     "base_uri": "https://localhost:8080/",
     "height": 195
    },
    "colab_type": "code",
    "id": "-8bSpIllYv1o",
    "outputId": "d819b12d-1e40-4c3b-af20-e9a399e0cc6d"
   },
   "outputs": [
    {
     "data": {
      "text/html": [
       "<div>\n",
       "<style scoped>\n",
       "    .dataframe tbody tr th:only-of-type {\n",
       "        vertical-align: middle;\n",
       "    }\n",
       "\n",
       "    .dataframe tbody tr th {\n",
       "        vertical-align: top;\n",
       "    }\n",
       "\n",
       "    .dataframe thead th {\n",
       "        text-align: right;\n",
       "    }\n",
       "</style>\n",
       "<table border=\"1\" class=\"dataframe\">\n",
       "  <thead>\n",
       "    <tr style=\"text-align: right;\">\n",
       "      <th></th>\n",
       "      <th>d1</th>\n",
       "      <th>d2</th>\n",
       "      <th>d3</th>\n",
       "      <th>d4</th>\n",
       "      <th>d5</th>\n",
       "      <th>d6</th>\n",
       "      <th>d7</th>\n",
       "      <th>d8</th>\n",
       "    </tr>\n",
       "  </thead>\n",
       "  <tbody>\n",
       "    <tr>\n",
       "      <th>0</th>\n",
       "      <td>31.84</td>\n",
       "      <td>31.96</td>\n",
       "      <td>31.84</td>\n",
       "      <td>32.00</td>\n",
       "      <td>32.12</td>\n",
       "      <td>31.88</td>\n",
       "      <td>32.00</td>\n",
       "      <td>31.44</td>\n",
       "    </tr>\n",
       "    <tr>\n",
       "      <th>1</th>\n",
       "      <td>31.96</td>\n",
       "      <td>31.84</td>\n",
       "      <td>32.00</td>\n",
       "      <td>32.12</td>\n",
       "      <td>31.88</td>\n",
       "      <td>32.00</td>\n",
       "      <td>31.44</td>\n",
       "      <td>31.36</td>\n",
       "    </tr>\n",
       "    <tr>\n",
       "      <th>2</th>\n",
       "      <td>31.84</td>\n",
       "      <td>32.00</td>\n",
       "      <td>32.12</td>\n",
       "      <td>31.88</td>\n",
       "      <td>32.00</td>\n",
       "      <td>31.44</td>\n",
       "      <td>31.36</td>\n",
       "      <td>32.48</td>\n",
       "    </tr>\n",
       "    <tr>\n",
       "      <th>3</th>\n",
       "      <td>32.00</td>\n",
       "      <td>32.12</td>\n",
       "      <td>31.88</td>\n",
       "      <td>32.00</td>\n",
       "      <td>31.44</td>\n",
       "      <td>31.36</td>\n",
       "      <td>32.48</td>\n",
       "      <td>31.56</td>\n",
       "    </tr>\n",
       "    <tr>\n",
       "      <th>4</th>\n",
       "      <td>32.12</td>\n",
       "      <td>31.88</td>\n",
       "      <td>32.00</td>\n",
       "      <td>31.44</td>\n",
       "      <td>31.36</td>\n",
       "      <td>32.48</td>\n",
       "      <td>31.56</td>\n",
       "      <td>32.08</td>\n",
       "    </tr>\n",
       "  </tbody>\n",
       "</table>\n",
       "</div>"
      ],
      "text/plain": [
       "      d1     d2     d3     d4     d5     d6     d7     d8\n",
       "0  31.84  31.96  31.84  32.00  32.12  31.88  32.00  31.44\n",
       "1  31.96  31.84  32.00  32.12  31.88  32.00  31.44  31.36\n",
       "2  31.84  32.00  32.12  31.88  32.00  31.44  31.36  32.48\n",
       "3  32.00  32.12  31.88  32.00  31.44  31.36  32.48  31.56\n",
       "4  32.12  31.88  32.00  31.44  31.36  32.48  31.56  32.08"
      ]
     },
     "execution_count": 18,
     "metadata": {
      "tags": []
     },
     "output_type": "execute_result"
    }
   ],
   "source": [
    "df1  = pd.DataFrame(X,columns=['d1','d2','d3','d4','d5','d6','d7','d8'])\n",
    "df1.head()"
   ]
  },
  {
   "cell_type": "code",
   "execution_count": null,
   "metadata": {
    "colab": {
     "base_uri": "https://localhost:8080/",
     "height": 195
    },
    "colab_type": "code",
    "id": "UEvVr4qqY3kP",
    "outputId": "b07fb3f0-7c55-4ed4-e582-934f4e6b24fd"
   },
   "outputs": [
    {
     "data": {
      "text/html": [
       "<div>\n",
       "<style scoped>\n",
       "    .dataframe tbody tr th:only-of-type {\n",
       "        vertical-align: middle;\n",
       "    }\n",
       "\n",
       "    .dataframe tbody tr th {\n",
       "        vertical-align: top;\n",
       "    }\n",
       "\n",
       "    .dataframe thead th {\n",
       "        text-align: right;\n",
       "    }\n",
       "</style>\n",
       "<table border=\"1\" class=\"dataframe\">\n",
       "  <thead>\n",
       "    <tr style=\"text-align: right;\">\n",
       "      <th></th>\n",
       "      <th>d1</th>\n",
       "      <th>d2</th>\n",
       "      <th>d3</th>\n",
       "      <th>d4</th>\n",
       "      <th>d5</th>\n",
       "      <th>d6</th>\n",
       "      <th>d7</th>\n",
       "      <th>d8</th>\n",
       "      <th>d9</th>\n",
       "    </tr>\n",
       "  </thead>\n",
       "  <tbody>\n",
       "    <tr>\n",
       "      <th>0</th>\n",
       "      <td>31.84</td>\n",
       "      <td>31.96</td>\n",
       "      <td>31.84</td>\n",
       "      <td>32.00</td>\n",
       "      <td>32.12</td>\n",
       "      <td>31.88</td>\n",
       "      <td>32.00</td>\n",
       "      <td>31.44</td>\n",
       "      <td>31.36</td>\n",
       "    </tr>\n",
       "    <tr>\n",
       "      <th>1</th>\n",
       "      <td>31.96</td>\n",
       "      <td>31.84</td>\n",
       "      <td>32.00</td>\n",
       "      <td>32.12</td>\n",
       "      <td>31.88</td>\n",
       "      <td>32.00</td>\n",
       "      <td>31.44</td>\n",
       "      <td>31.36</td>\n",
       "      <td>32.48</td>\n",
       "    </tr>\n",
       "    <tr>\n",
       "      <th>2</th>\n",
       "      <td>31.84</td>\n",
       "      <td>32.00</td>\n",
       "      <td>32.12</td>\n",
       "      <td>31.88</td>\n",
       "      <td>32.00</td>\n",
       "      <td>31.44</td>\n",
       "      <td>31.36</td>\n",
       "      <td>32.48</td>\n",
       "      <td>31.56</td>\n",
       "    </tr>\n",
       "    <tr>\n",
       "      <th>3</th>\n",
       "      <td>32.00</td>\n",
       "      <td>32.12</td>\n",
       "      <td>31.88</td>\n",
       "      <td>32.00</td>\n",
       "      <td>31.44</td>\n",
       "      <td>31.36</td>\n",
       "      <td>32.48</td>\n",
       "      <td>31.56</td>\n",
       "      <td>32.08</td>\n",
       "    </tr>\n",
       "    <tr>\n",
       "      <th>4</th>\n",
       "      <td>32.12</td>\n",
       "      <td>31.88</td>\n",
       "      <td>32.00</td>\n",
       "      <td>31.44</td>\n",
       "      <td>31.36</td>\n",
       "      <td>32.48</td>\n",
       "      <td>31.56</td>\n",
       "      <td>32.08</td>\n",
       "      <td>32.72</td>\n",
       "    </tr>\n",
       "  </tbody>\n",
       "</table>\n",
       "</div>"
      ],
      "text/plain": [
       "      d1     d2     d3     d4     d5     d6     d7     d8     d9\n",
       "0  31.84  31.96  31.84  32.00  32.12  31.88  32.00  31.44  31.36\n",
       "1  31.96  31.84  32.00  32.12  31.88  32.00  31.44  31.36  32.48\n",
       "2  31.84  32.00  32.12  31.88  32.00  31.44  31.36  32.48  31.56\n",
       "3  32.00  32.12  31.88  32.00  31.44  31.36  32.48  31.56  32.08\n",
       "4  32.12  31.88  32.00  31.44  31.36  32.48  31.56  32.08  32.72"
      ]
     },
     "execution_count": 19,
     "metadata": {
      "tags": []
     },
     "output_type": "execute_result"
    }
   ],
   "source": [
    "df1['d9'] = y\n",
    "df1.head()"
   ]
  },
  {
   "cell_type": "code",
   "execution_count": null,
   "metadata": {
    "colab": {
     "base_uri": "https://localhost:8080/",
     "height": 34
    },
    "colab_type": "code",
    "id": "cd4DuVhPZBXO",
    "outputId": "d9fb7a15-44d1-4f18-a12f-67dabe7aefde"
   },
   "outputs": [
    {
     "data": {
      "text/plain": [
       "(1250, 9)"
      ]
     },
     "execution_count": 20,
     "metadata": {
      "tags": []
     },
     "output_type": "execute_result"
    }
   ],
   "source": [
    "df1.shape"
   ]
  },
  {
   "cell_type": "code",
   "execution_count": null,
   "metadata": {
    "colab": {
     "base_uri": "https://localhost:8080/",
     "height": 34
    },
    "colab_type": "code",
    "id": "dh2IJGzpZEyn",
    "outputId": "314782e9-b0a6-43d3-ad16-65b6f95835c0"
   },
   "outputs": [
    {
     "data": {
      "text/plain": [
       "1000.8000000000001"
      ]
     },
     "execution_count": 24,
     "metadata": {
      "tags": []
     },
     "output_type": "execute_result"
    }
   ],
   "source": [
    "1251 * 0.8"
   ]
  },
  {
   "cell_type": "code",
   "execution_count": null,
   "metadata": {
    "colab": {
     "base_uri": "https://localhost:8080/",
     "height": 84
    },
    "colab_type": "code",
    "id": "say8UjmMZKZ3",
    "outputId": "3e8a90d2-7eb0-48a2-d690-f223657be370"
   },
   "outputs": [
    {
     "name": "stdout",
     "output_type": "stream",
     "text": [
      "(1000, 8)\n",
      "(1000,)\n",
      "(250, 8)\n",
      "(250,)\n"
     ]
    }
   ],
   "source": [
    "## Train test split\n",
    "X_train = df1.iloc[0:1000,0:8]\n",
    "X_test = df1.iloc[1000:,0:8]\n",
    "y_train =  df1['d9'][:1000]\n",
    "y_test  = df1['d9'][1000:]\n",
    "print(X_train.shape)\n",
    "print(y_train.shape)\n",
    "print(X_test.shape)\n",
    "print(y_test.shape)"
   ]
  },
  {
   "cell_type": "code",
   "execution_count": null,
   "metadata": {
    "colab": {
     "base_uri": "https://localhost:8080/",
     "height": 284
    },
    "colab_type": "code",
    "id": "f3-d7MX-a4tP",
    "outputId": "3d71642c-b228-46d4-fe7c-805bc512a5bf"
   },
   "outputs": [
    {
     "data": {
      "text/html": [
       "<div>\n",
       "<style scoped>\n",
       "    .dataframe tbody tr th:only-of-type {\n",
       "        vertical-align: middle;\n",
       "    }\n",
       "\n",
       "    .dataframe tbody tr th {\n",
       "        vertical-align: top;\n",
       "    }\n",
       "\n",
       "    .dataframe thead th {\n",
       "        text-align: right;\n",
       "    }\n",
       "</style>\n",
       "<table border=\"1\" class=\"dataframe\">\n",
       "  <thead>\n",
       "    <tr style=\"text-align: right;\">\n",
       "      <th></th>\n",
       "      <th>d1</th>\n",
       "      <th>d2</th>\n",
       "      <th>d3</th>\n",
       "      <th>d4</th>\n",
       "      <th>d5</th>\n",
       "      <th>d6</th>\n",
       "      <th>d7</th>\n",
       "      <th>d8</th>\n",
       "    </tr>\n",
       "  </thead>\n",
       "  <tbody>\n",
       "    <tr>\n",
       "      <th>count</th>\n",
       "      <td>1.000000e+03</td>\n",
       "      <td>1.000000e+03</td>\n",
       "      <td>1.000000e+03</td>\n",
       "      <td>1.000000e+03</td>\n",
       "      <td>1.000000e+03</td>\n",
       "      <td>1.000000e+03</td>\n",
       "      <td>1.000000e+03</td>\n",
       "      <td>1.000000e+03</td>\n",
       "    </tr>\n",
       "    <tr>\n",
       "      <th>mean</th>\n",
       "      <td>5.102585e-16</td>\n",
       "      <td>6.763479e-16</td>\n",
       "      <td>-1.332268e-16</td>\n",
       "      <td>9.858780e-16</td>\n",
       "      <td>-7.824852e-16</td>\n",
       "      <td>2.264855e-16</td>\n",
       "      <td>1.313616e-15</td>\n",
       "      <td>7.513989e-16</td>\n",
       "    </tr>\n",
       "    <tr>\n",
       "      <th>std</th>\n",
       "      <td>1.000500e+00</td>\n",
       "      <td>1.000500e+00</td>\n",
       "      <td>1.000500e+00</td>\n",
       "      <td>1.000500e+00</td>\n",
       "      <td>1.000500e+00</td>\n",
       "      <td>1.000500e+00</td>\n",
       "      <td>1.000500e+00</td>\n",
       "      <td>1.000500e+00</td>\n",
       "    </tr>\n",
       "    <tr>\n",
       "      <th>min</th>\n",
       "      <td>-2.377440e+00</td>\n",
       "      <td>-2.373860e+00</td>\n",
       "      <td>-2.370123e+00</td>\n",
       "      <td>-2.367039e+00</td>\n",
       "      <td>-2.364222e+00</td>\n",
       "      <td>-2.361249e+00</td>\n",
       "      <td>-2.358163e+00</td>\n",
       "      <td>-2.354997e+00</td>\n",
       "    </tr>\n",
       "    <tr>\n",
       "      <th>25%</th>\n",
       "      <td>-6.979239e-01</td>\n",
       "      <td>-6.964396e-01</td>\n",
       "      <td>-6.948884e-01</td>\n",
       "      <td>-6.936028e-01</td>\n",
       "      <td>-6.924220e-01</td>\n",
       "      <td>-6.911746e-01</td>\n",
       "      <td>-6.898867e-01</td>\n",
       "      <td>-6.885632e-01</td>\n",
       "    </tr>\n",
       "    <tr>\n",
       "      <th>50%</th>\n",
       "      <td>-1.776392e-01</td>\n",
       "      <td>-1.768038e-01</td>\n",
       "      <td>-1.759300e-01</td>\n",
       "      <td>-1.752015e-01</td>\n",
       "      <td>-1.745274e-01</td>\n",
       "      <td>-1.738148e-01</td>\n",
       "      <td>-1.730837e-01</td>\n",
       "      <td>-1.723310e-01</td>\n",
       "    </tr>\n",
       "    <tr>\n",
       "      <th>75%</th>\n",
       "      <td>7.686096e-01</td>\n",
       "      <td>7.682648e-01</td>\n",
       "      <td>7.679068e-01</td>\n",
       "      <td>7.676221e-01</td>\n",
       "      <td>7.673744e-01</td>\n",
       "      <td>7.671146e-01</td>\n",
       "      <td>7.668329e-01</td>\n",
       "      <td>7.665475e-01</td>\n",
       "    </tr>\n",
       "    <tr>\n",
       "      <th>max</th>\n",
       "      <td>2.143865e+00</td>\n",
       "      <td>2.141805e+00</td>\n",
       "      <td>2.139657e+00</td>\n",
       "      <td>2.137899e+00</td>\n",
       "      <td>2.136312e+00</td>\n",
       "      <td>2.134639e+00</td>\n",
       "      <td>2.132885e+00</td>\n",
       "      <td>2.131091e+00</td>\n",
       "    </tr>\n",
       "  </tbody>\n",
       "</table>\n",
       "</div>"
      ],
      "text/plain": [
       "                 d1            d2  ...            d7            d8\n",
       "count  1.000000e+03  1.000000e+03  ...  1.000000e+03  1.000000e+03\n",
       "mean   5.102585e-16  6.763479e-16  ...  1.313616e-15  7.513989e-16\n",
       "std    1.000500e+00  1.000500e+00  ...  1.000500e+00  1.000500e+00\n",
       "min   -2.377440e+00 -2.373860e+00  ... -2.358163e+00 -2.354997e+00\n",
       "25%   -6.979239e-01 -6.964396e-01  ... -6.898867e-01 -6.885632e-01\n",
       "50%   -1.776392e-01 -1.768038e-01  ... -1.730837e-01 -1.723310e-01\n",
       "75%    7.686096e-01  7.682648e-01  ...  7.668329e-01  7.665475e-01\n",
       "max    2.143865e+00  2.141805e+00  ...  2.132885e+00  2.131091e+00\n",
       "\n",
       "[8 rows x 8 columns]"
      ]
     },
     "execution_count": 26,
     "metadata": {
      "tags": []
     },
     "output_type": "execute_result"
    }
   ],
   "source": [
    "## Sacling the data\n",
    "from sklearn.preprocessing import StandardScaler\n",
    "sc = StandardScaler()\n",
    "sc.fit(X_train)\n",
    "X_train_sc = pd.DataFrame(sc.transform(X_train),columns = X_train.columns)\n",
    "X_test_sc = pd.DataFrame(sc.transform(X_test),columns = X_train.columns)\n",
    "X_train_sc.describe()"
   ]
  },
  {
   "cell_type": "code",
   "execution_count": null,
   "metadata": {
    "colab": {
     "base_uri": "https://localhost:8080/",
     "height": 235
    },
    "colab_type": "code",
    "id": "VA5VQqw3a7Cf",
    "outputId": "c6448137-5297-4588-daa3-5fe504da0308"
   },
   "outputs": [
    {
     "name": "stderr",
     "output_type": "stream",
     "text": [
      "Using TensorFlow backend.\n"
     ]
    },
    {
     "name": "stdout",
     "output_type": "stream",
     "text": [
      "Model: \"sequential_1\"\n",
      "_________________________________________________________________\n",
      "Layer (type)                 Output Shape              Param #   \n",
      "=================================================================\n",
      "lstm_1 (LSTM)                (None, 250)               252000    \n",
      "_________________________________________________________________\n",
      "dense_1 (Dense)              (None, 1)                 251       \n",
      "=================================================================\n",
      "Total params: 252,251\n",
      "Trainable params: 252,251\n",
      "Non-trainable params: 0\n",
      "_________________________________________________________________\n"
     ]
    }
   ],
   "source": [
    "from keras.models import Sequential\n",
    "from keras.layers import Dense,Dropout,LSTM\n",
    "model = Sequential()\n",
    "# 250 cells\n",
    "model.add(LSTM(250,input_shape=(8,1)))\n",
    "# single neuron\n",
    "model.add(Dense(1))\n",
    "model.summary()"
   ]
  },
  {
   "cell_type": "code",
   "execution_count": null,
   "metadata": {
    "colab": {},
    "colab_type": "code",
    "id": "MbHqQXMJcKgt"
   },
   "outputs": [],
   "source": []
  },
  {
   "cell_type": "code",
   "execution_count": null,
   "metadata": {
    "colab": {},
    "colab_type": "code",
    "id": "KfeP0SWkbR0n"
   },
   "outputs": [],
   "source": [
    "model.compile(optimizer='adam',loss='mse')"
   ]
  },
  {
   "cell_type": "code",
   "execution_count": null,
   "metadata": {
    "colab": {
     "base_uri": "https://localhost:8080/",
     "height": 34
    },
    "colab_type": "code",
    "id": "ceXVlowQbWKB",
    "outputId": "3f9fe9cd-8f1c-4559-9484-392d98b09753"
   },
   "outputs": [
    {
     "data": {
      "text/plain": [
       "(250, 8)"
      ]
     },
     "execution_count": 29,
     "metadata": {
      "tags": []
     },
     "output_type": "execute_result"
    }
   ],
   "source": [
    "X_test.shape"
   ]
  },
  {
   "cell_type": "code",
   "execution_count": null,
   "metadata": {
    "colab": {},
    "colab_type": "code",
    "id": "OruqisLybbaW"
   },
   "outputs": [],
   "source": [
    "# number of records , time steps,Features\n",
    "X_train_sc = X_train_sc.values.reshape(1000,8,1)\n",
    "X_test_sc = X_test_sc.values.reshape(250,8,1)"
   ]
  },
  {
   "cell_type": "code",
   "execution_count": null,
   "metadata": {
    "colab": {
     "base_uri": "https://localhost:8080/",
     "height": 1000
    },
    "colab_type": "code",
    "id": "ThVpQTfzbqKR",
    "outputId": "75f45268-c153-4d59-b5c1-050c5057552e"
   },
   "outputs": [
    {
     "name": "stdout",
     "output_type": "stream",
     "text": [
      "Train on 1000 samples, validate on 250 samples\n",
      "Epoch 1/100\n",
      "1000/1000 [==============================] - 2s 2ms/step - loss: 1506.7603 - val_loss: 72.4403\n",
      "Epoch 2/100\n",
      "1000/1000 [==============================] - 1s 968us/step - loss: 249.9579 - val_loss: 18.9518\n",
      "Epoch 3/100\n",
      "1000/1000 [==============================] - 1s 944us/step - loss: 82.9042 - val_loss: 95.3789\n",
      "Epoch 4/100\n",
      "1000/1000 [==============================] - 1s 948us/step - loss: 48.6782 - val_loss: 148.3192\n",
      "Epoch 5/100\n",
      "1000/1000 [==============================] - 1s 962us/step - loss: 44.2264 - val_loss: 167.9629\n",
      "Epoch 6/100\n",
      "1000/1000 [==============================] - 1s 963us/step - loss: 44.0175 - val_loss: 174.8568\n",
      "Epoch 7/100\n",
      "1000/1000 [==============================] - 1s 947us/step - loss: 43.7540 - val_loss: 168.2015\n",
      "Epoch 8/100\n",
      "1000/1000 [==============================] - 1s 978us/step - loss: 42.7774 - val_loss: 166.2502\n",
      "Epoch 9/100\n",
      "1000/1000 [==============================] - 1s 953us/step - loss: 41.9720 - val_loss: 168.7061\n",
      "Epoch 10/100\n",
      "1000/1000 [==============================] - 1s 961us/step - loss: 40.4189 - val_loss: 160.7085\n",
      "Epoch 11/100\n",
      "1000/1000 [==============================] - 1s 941us/step - loss: 39.0187 - val_loss: 160.8454\n",
      "Epoch 12/100\n",
      "1000/1000 [==============================] - 1s 945us/step - loss: 37.1819 - val_loss: 152.0986\n",
      "Epoch 13/100\n",
      "1000/1000 [==============================] - 1s 956us/step - loss: 34.5782 - val_loss: 149.4637\n",
      "Epoch 14/100\n",
      "1000/1000 [==============================] - 1s 960us/step - loss: 32.4395 - val_loss: 147.2827\n",
      "Epoch 15/100\n",
      "1000/1000 [==============================] - 1s 971us/step - loss: 30.3864 - val_loss: 133.0014\n",
      "Epoch 16/100\n",
      "1000/1000 [==============================] - 1s 949us/step - loss: 27.1373 - val_loss: 132.2838\n",
      "Epoch 17/100\n",
      "1000/1000 [==============================] - 1s 954us/step - loss: 24.0486 - val_loss: 118.3886\n",
      "Epoch 18/100\n",
      "1000/1000 [==============================] - 1s 950us/step - loss: 21.0331 - val_loss: 104.3810\n",
      "Epoch 19/100\n",
      "1000/1000 [==============================] - 1s 934us/step - loss: 17.4529 - val_loss: 88.3161\n",
      "Epoch 20/100\n",
      "1000/1000 [==============================] - 1s 949us/step - loss: 12.8389 - val_loss: 58.2629\n",
      "Epoch 21/100\n",
      "1000/1000 [==============================] - 1s 966us/step - loss: 8.9006 - val_loss: 29.3964\n",
      "Epoch 22/100\n",
      "1000/1000 [==============================] - 1s 936us/step - loss: 5.8717 - val_loss: 10.2959\n",
      "Epoch 23/100\n",
      "1000/1000 [==============================] - 1s 942us/step - loss: 4.4984 - val_loss: 5.1420\n",
      "Epoch 24/100\n",
      "1000/1000 [==============================] - 1s 969us/step - loss: 3.8982 - val_loss: 3.9660\n",
      "Epoch 25/100\n",
      "1000/1000 [==============================] - 1s 953us/step - loss: 3.7078 - val_loss: 1.5190\n",
      "Epoch 26/100\n",
      "1000/1000 [==============================] - 1s 942us/step - loss: 3.5505 - val_loss: 1.0416\n",
      "Epoch 27/100\n",
      "1000/1000 [==============================] - 1s 954us/step - loss: 2.9974 - val_loss: 1.4870\n",
      "Epoch 28/100\n",
      "1000/1000 [==============================] - 1s 981us/step - loss: 2.8227 - val_loss: 0.7495\n",
      "Epoch 29/100\n",
      "1000/1000 [==============================] - 1s 955us/step - loss: 2.7020 - val_loss: 0.7664\n",
      "Epoch 30/100\n",
      "1000/1000 [==============================] - 1s 952us/step - loss: 2.7701 - val_loss: 2.8135\n",
      "Epoch 31/100\n",
      "1000/1000 [==============================] - 1s 958us/step - loss: 2.5902 - val_loss: 0.9542\n",
      "Epoch 32/100\n",
      "1000/1000 [==============================] - 1s 964us/step - loss: 2.3390 - val_loss: 3.2601\n",
      "Epoch 33/100\n",
      "1000/1000 [==============================] - 1s 958us/step - loss: 2.6981 - val_loss: 2.7279\n",
      "Epoch 34/100\n",
      "1000/1000 [==============================] - 1s 966us/step - loss: 2.3781 - val_loss: 1.1511\n",
      "Epoch 35/100\n",
      "1000/1000 [==============================] - 1s 945us/step - loss: 2.3749 - val_loss: 0.9891\n",
      "Epoch 36/100\n",
      "1000/1000 [==============================] - 1s 947us/step - loss: 2.3266 - val_loss: 0.7598\n",
      "Epoch 37/100\n",
      "1000/1000 [==============================] - 1s 957us/step - loss: 2.2799 - val_loss: 1.2720\n",
      "Epoch 38/100\n",
      "1000/1000 [==============================] - 1s 977us/step - loss: 2.0906 - val_loss: 0.5638\n",
      "Epoch 39/100\n",
      "1000/1000 [==============================] - 1s 946us/step - loss: 1.9948 - val_loss: 0.6476\n",
      "Epoch 40/100\n",
      "1000/1000 [==============================] - 1s 956us/step - loss: 2.1113 - val_loss: 0.8799\n",
      "Epoch 41/100\n",
      "1000/1000 [==============================] - 1s 951us/step - loss: 2.1467 - val_loss: 2.2086\n",
      "Epoch 42/100\n",
      "1000/1000 [==============================] - 1s 961us/step - loss: 2.0800 - val_loss: 0.8802\n",
      "Epoch 43/100\n",
      "1000/1000 [==============================] - 1s 955us/step - loss: 1.9187 - val_loss: 2.0167\n",
      "Epoch 44/100\n",
      "1000/1000 [==============================] - 1s 950us/step - loss: 2.0831 - val_loss: 0.6285\n",
      "Epoch 45/100\n",
      "1000/1000 [==============================] - 1s 957us/step - loss: 1.8871 - val_loss: 1.0887\n",
      "Epoch 46/100\n",
      "1000/1000 [==============================] - 1s 944us/step - loss: 1.8716 - val_loss: 0.6814\n",
      "Epoch 47/100\n",
      "1000/1000 [==============================] - 1s 961us/step - loss: 1.8104 - val_loss: 0.5748\n",
      "Epoch 48/100\n",
      "1000/1000 [==============================] - 1s 969us/step - loss: 1.6782 - val_loss: 0.8834\n",
      "Epoch 49/100\n",
      "1000/1000 [==============================] - 1s 948us/step - loss: 1.5872 - val_loss: 0.5419\n",
      "Epoch 50/100\n",
      "1000/1000 [==============================] - 1s 957us/step - loss: 1.5983 - val_loss: 0.5497\n",
      "Epoch 51/100\n",
      "1000/1000 [==============================] - 1s 946us/step - loss: 1.5328 - val_loss: 0.5080\n",
      "Epoch 52/100\n",
      "1000/1000 [==============================] - 1s 951us/step - loss: 1.5929 - val_loss: 0.5725\n",
      "Epoch 53/100\n",
      "1000/1000 [==============================] - 1s 954us/step - loss: 1.5166 - val_loss: 1.8723\n",
      "Epoch 54/100\n",
      "1000/1000 [==============================] - 1s 947us/step - loss: 1.4342 - val_loss: 1.0440\n",
      "Epoch 55/100\n",
      "1000/1000 [==============================] - 1s 953us/step - loss: 1.3862 - val_loss: 0.6344\n",
      "Epoch 56/100\n",
      "1000/1000 [==============================] - 1s 943us/step - loss: 1.4648 - val_loss: 0.9797\n",
      "Epoch 57/100\n",
      "1000/1000 [==============================] - 1s 959us/step - loss: 1.4440 - val_loss: 0.4001\n",
      "Epoch 58/100\n",
      "1000/1000 [==============================] - 1s 948us/step - loss: 1.3977 - val_loss: 0.4260\n",
      "Epoch 59/100\n",
      "1000/1000 [==============================] - 1s 957us/step - loss: 1.5013 - val_loss: 0.7799\n",
      "Epoch 60/100\n",
      "1000/1000 [==============================] - 1s 961us/step - loss: 1.2428 - val_loss: 0.5479\n",
      "Epoch 61/100\n",
      "1000/1000 [==============================] - 1s 967us/step - loss: 1.2415 - val_loss: 0.5305\n",
      "Epoch 62/100\n",
      "1000/1000 [==============================] - 1s 961us/step - loss: 1.2179 - val_loss: 0.9769\n",
      "Epoch 63/100\n",
      "1000/1000 [==============================] - 1s 957us/step - loss: 1.2595 - val_loss: 0.7715\n",
      "Epoch 64/100\n",
      "1000/1000 [==============================] - 1s 941us/step - loss: 1.2679 - val_loss: 0.8751\n",
      "Epoch 65/100\n",
      "1000/1000 [==============================] - 1s 964us/step - loss: 1.4053 - val_loss: 0.4132\n",
      "Epoch 66/100\n",
      "1000/1000 [==============================] - 1s 944us/step - loss: 1.3311 - val_loss: 0.4256\n",
      "Epoch 67/100\n",
      "1000/1000 [==============================] - 1s 941us/step - loss: 1.5064 - val_loss: 0.4004\n",
      "Epoch 68/100\n",
      "1000/1000 [==============================] - 1s 944us/step - loss: 1.3282 - val_loss: 1.0931\n",
      "Epoch 69/100\n",
      "1000/1000 [==============================] - 1s 938us/step - loss: 1.2319 - val_loss: 0.7164\n",
      "Epoch 70/100\n",
      "1000/1000 [==============================] - 1s 960us/step - loss: 1.2495 - val_loss: 0.4564\n",
      "Epoch 71/100\n",
      "1000/1000 [==============================] - 1s 974us/step - loss: 1.1964 - val_loss: 0.7076\n",
      "Epoch 72/100\n",
      "1000/1000 [==============================] - 1s 959us/step - loss: 1.3149 - val_loss: 0.7088\n",
      "Epoch 73/100\n",
      "1000/1000 [==============================] - 1s 979us/step - loss: 1.0433 - val_loss: 0.4520\n",
      "Epoch 74/100\n",
      "1000/1000 [==============================] - 1s 961us/step - loss: 1.0871 - val_loss: 0.3801\n",
      "Epoch 75/100\n",
      "1000/1000 [==============================] - 1s 946us/step - loss: 1.0451 - val_loss: 0.6632\n",
      "Epoch 76/100\n",
      "1000/1000 [==============================] - 1s 952us/step - loss: 0.9943 - val_loss: 0.4419\n",
      "Epoch 77/100\n",
      "1000/1000 [==============================] - 1s 957us/step - loss: 1.0623 - val_loss: 0.6490\n",
      "Epoch 78/100\n",
      "1000/1000 [==============================] - 1s 993us/step - loss: 1.0427 - val_loss: 0.5793\n",
      "Epoch 79/100\n",
      "1000/1000 [==============================] - 1s 975us/step - loss: 0.9761 - val_loss: 0.7675\n",
      "Epoch 80/100\n",
      "1000/1000 [==============================] - 1s 969us/step - loss: 0.9790 - val_loss: 0.4614\n",
      "Epoch 81/100\n",
      "1000/1000 [==============================] - 1s 978us/step - loss: 0.9303 - val_loss: 0.4449\n",
      "Epoch 82/100\n",
      "1000/1000 [==============================] - 1s 955us/step - loss: 1.0986 - val_loss: 0.8998\n",
      "Epoch 83/100\n",
      "1000/1000 [==============================] - 1s 954us/step - loss: 1.1010 - val_loss: 0.3896\n",
      "Epoch 84/100\n",
      "1000/1000 [==============================] - 1s 962us/step - loss: 1.1578 - val_loss: 0.9348\n",
      "Epoch 85/100\n",
      "1000/1000 [==============================] - 1s 953us/step - loss: 1.1955 - val_loss: 1.0905\n",
      "Epoch 86/100\n",
      "1000/1000 [==============================] - 1s 961us/step - loss: 1.0576 - val_loss: 0.8590\n",
      "Epoch 87/100\n",
      "1000/1000 [==============================] - 1s 945us/step - loss: 1.0073 - val_loss: 0.3586\n",
      "Epoch 88/100\n",
      "1000/1000 [==============================] - 1s 959us/step - loss: 0.8866 - val_loss: 0.5230\n",
      "Epoch 89/100\n",
      "1000/1000 [==============================] - 1s 951us/step - loss: 0.8845 - val_loss: 0.6880\n",
      "Epoch 90/100\n",
      "1000/1000 [==============================] - 1s 954us/step - loss: 0.9132 - val_loss: 0.4169\n",
      "Epoch 91/100\n",
      "1000/1000 [==============================] - 1s 961us/step - loss: 0.8455 - val_loss: 0.4300\n",
      "Epoch 92/100\n",
      "1000/1000 [==============================] - 1s 961us/step - loss: 0.8822 - val_loss: 0.3896\n",
      "Epoch 93/100\n",
      "1000/1000 [==============================] - 1s 945us/step - loss: 0.8813 - val_loss: 0.3694\n",
      "Epoch 94/100\n",
      "1000/1000 [==============================] - 1s 953us/step - loss: 0.8882 - val_loss: 0.4468\n",
      "Epoch 95/100\n",
      "1000/1000 [==============================] - 1s 972us/step - loss: 0.8186 - val_loss: 0.4889\n",
      "Epoch 96/100\n",
      "1000/1000 [==============================] - 1s 944us/step - loss: 0.8626 - val_loss: 0.3468\n",
      "Epoch 97/100\n",
      "1000/1000 [==============================] - 1s 943us/step - loss: 0.8613 - val_loss: 0.3780\n",
      "Epoch 98/100\n",
      "1000/1000 [==============================] - 1s 971us/step - loss: 0.8358 - val_loss: 0.5587\n",
      "Epoch 99/100\n",
      "1000/1000 [==============================] - 1s 951us/step - loss: 0.8402 - val_loss: 1.0188\n",
      "Epoch 100/100\n",
      "1000/1000 [==============================] - 1s 953us/step - loss: 0.8650 - val_loss: 1.0932\n"
     ]
    }
   ],
   "source": [
    "history = model.fit(X_train_sc,y_train,epochs=100,validation_data=(X_test_sc,y_test))"
   ]
  },
  {
   "cell_type": "code",
   "execution_count": null,
   "metadata": {
    "colab": {
     "base_uri": "https://localhost:8080/",
     "height": 282
    },
    "colab_type": "code",
    "id": "2gr5yW01cMlm",
    "outputId": "dd373a6a-5d85-4826-f171-4bfb64775086"
   },
   "outputs": [
    {
     "data": {
      "text/plain": [
       "[<matplotlib.lines.Line2D at 0x7f6a17726630>]"
      ]
     },
     "execution_count": 32,
     "metadata": {
      "tags": []
     },
     "output_type": "execute_result"
    },
    {
     "data": {
      "image/png": "[encoded data removed]",
      "text/plain": [
       "<Figure size 432x288 with 1 Axes>"
      ]
     },
     "metadata": {
      "needs_background": "light",
      "tags": []
     },
     "output_type": "display_data"
    }
   ],
   "source": [
    "tr_loss = history.history['loss']\n",
    "val_loss = history.history['val_loss']\n",
    "ep = list(range(1,101))\n",
    "plt.plot(ep,tr_loss,color='r')\n",
    "plt.plot(ep,val_loss,color='b')"
   ]
  },
  {
   "cell_type": "code",
   "execution_count": null,
   "metadata": {
    "colab": {
     "base_uri": "https://localhost:8080/",
     "height": 1000
    },
    "colab_type": "code",
    "id": "6TY0vYs4cSNN",
    "outputId": "ccb7bb5d-998e-41eb-d564-7ee5fd1e7a43"
   },
   "outputs": [
    {
     "data": {
      "text/plain": [
       "array([[29.71954 ],\n",
       "       [29.795204],\n",
       "       [29.913649],\n",
       "       [30.00442 ],\n",
       "       [30.289612],\n",
       "       [30.45243 ],\n",
       "       [30.502684],\n",
       "       [30.610018],\n",
       "       [30.681866],\n",
       "       [30.724665],\n",
       "       [30.827076],\n",
       "       [30.91192 ],\n",
       "       [30.857706],\n",
       "       [30.836216],\n",
       "       [30.765888],\n",
       "       [30.586956],\n",
       "       [30.531645],\n",
       "       [30.57952 ],\n",
       "       [30.498362],\n",
       "       [30.55208 ],\n",
       "       [30.55098 ],\n",
       "       [30.521479],\n",
       "       [30.447777],\n",
       "       [30.404919],\n",
       "       [30.326199],\n",
       "       [30.390844],\n",
       "       [30.383293],\n",
       "       [30.462788],\n",
       "       [30.295288],\n",
       "       [30.169695],\n",
       "       [30.088388],\n",
       "       [29.978638],\n",
       "       [29.83427 ],\n",
       "       [29.950829],\n",
       "       [29.967518],\n",
       "       [30.10419 ],\n",
       "       [30.19788 ],\n",
       "       [30.179533],\n",
       "       [30.122475],\n",
       "       [30.02218 ],\n",
       "       [29.88971 ],\n",
       "       [29.767769],\n",
       "       [29.641245],\n",
       "       [29.55053 ],\n",
       "       [29.444567],\n",
       "       [29.372942],\n",
       "       [29.312428],\n",
       "       [29.268267],\n",
       "       [29.168371],\n",
       "       [29.130064],\n",
       "       [29.055244],\n",
       "       [29.115229],\n",
       "       [29.095816],\n",
       "       [29.193012],\n",
       "       [29.29432 ],\n",
       "       [29.43897 ],\n",
       "       [29.432598],\n",
       "       [29.426607],\n",
       "       [29.339127],\n",
       "       [29.220371],\n",
       "       [29.237402],\n",
       "       [29.27321 ],\n",
       "       [29.249699],\n",
       "       [29.323313],\n",
       "       [29.370409],\n",
       "       [29.361387],\n",
       "       [29.446547],\n",
       "       [29.495378],\n",
       "       [29.291553],\n",
       "       [29.265009],\n",
       "       [29.231937],\n",
       "       [29.147837],\n",
       "       [29.077099],\n",
       "       [29.114475],\n",
       "       [29.10323 ],\n",
       "       [29.106445],\n",
       "       [29.193762],\n",
       "       [29.243633],\n",
       "       [29.309755],\n",
       "       [29.353407],\n",
       "       [29.297958],\n",
       "       [29.27035 ],\n",
       "       [29.271368],\n",
       "       [29.216131],\n",
       "       [29.130463],\n",
       "       [29.18856 ],\n",
       "       [29.173315],\n",
       "       [29.094124],\n",
       "       [29.073416],\n",
       "       [29.203968],\n",
       "       [29.337463],\n",
       "       [29.352268],\n",
       "       [29.311863],\n",
       "       [29.306612],\n",
       "       [29.362715],\n",
       "       [29.541187],\n",
       "       [29.638983],\n",
       "       [29.838112],\n",
       "       [29.972872],\n",
       "       [29.9676  ],\n",
       "       [29.979538],\n",
       "       [29.867115],\n",
       "       [29.735676],\n",
       "       [29.736181],\n",
       "       [29.750372],\n",
       "       [29.768587],\n",
       "       [29.851574],\n",
       "       [29.978165],\n",
       "       [30.110062],\n",
       "       [30.19289 ],\n",
       "       [30.248327],\n",
       "       [30.308502],\n",
       "       [30.3476  ],\n",
       "       [30.677807],\n",
       "       [30.910213],\n",
       "       [31.22968 ],\n",
       "       [31.331331],\n",
       "       [31.433123],\n",
       "       [31.444952],\n",
       "       [31.49974 ],\n",
       "       [32.00458 ],\n",
       "       [32.45908 ],\n",
       "       [32.599316],\n",
       "       [32.759117],\n",
       "       [32.988087],\n",
       "       [33.03544 ],\n",
       "       [33.023613],\n",
       "       [32.719734],\n",
       "       [32.600986],\n",
       "       [32.715588],\n",
       "       [32.82764 ],\n",
       "       [32.92152 ],\n",
       "       [32.7975  ],\n",
       "       [32.58411 ],\n",
       "       [32.394623],\n",
       "       [32.36841 ],\n",
       "       [32.454803],\n",
       "       [32.567398],\n",
       "       [32.71383 ],\n",
       "       [32.83881 ],\n",
       "       [32.898098],\n",
       "       [32.954243],\n",
       "       [32.97811 ],\n",
       "       [33.08815 ],\n",
       "       [33.00179 ],\n",
       "       [32.94066 ],\n",
       "       [32.826008],\n",
       "       [32.640915],\n",
       "       [32.695953],\n",
       "       [33.00576 ],\n",
       "       [33.163017],\n",
       "       [33.272663],\n",
       "       [33.30157 ],\n",
       "       [33.190296],\n",
       "       [33.16679 ],\n",
       "       [33.323975],\n",
       "       [33.438175],\n",
       "       [33.561264],\n",
       "       [33.69113 ],\n",
       "       [33.948315],\n",
       "       [34.207382],\n",
       "       [34.312405],\n",
       "       [34.12443 ],\n",
       "       [34.058956],\n",
       "       [33.918503],\n",
       "       [33.72814 ],\n",
       "       [33.681026],\n",
       "       [33.635693],\n",
       "       [33.47983 ],\n",
       "       [33.416954],\n",
       "       [33.413376],\n",
       "       [33.39622 ],\n",
       "       [33.491592],\n",
       "       [33.59284 ],\n",
       "       [33.517773],\n",
       "       [33.492207],\n",
       "       [33.594913],\n",
       "       [33.767525],\n",
       "       [33.824654],\n",
       "       [33.908154],\n",
       "       [33.83186 ],\n",
       "       [32.884212],\n",
       "       [32.258892],\n",
       "       [31.910282],\n",
       "       [31.691824],\n",
       "       [31.486778],\n",
       "       [31.109417],\n",
       "       [30.76137 ],\n",
       "       [30.551403],\n",
       "       [30.26178 ],\n",
       "       [30.235392],\n",
       "       [30.189104],\n",
       "       [30.1434  ],\n",
       "       [29.902868],\n",
       "       [29.741673],\n",
       "       [29.61208 ],\n",
       "       [29.48801 ],\n",
       "       [29.417536],\n",
       "       [29.42749 ],\n",
       "       [29.439262],\n",
       "       [29.429237],\n",
       "       [29.479403],\n",
       "       [29.445293],\n",
       "       [29.593493],\n",
       "       [29.771784],\n",
       "       [30.004066],\n",
       "       [30.225456],\n",
       "       [30.324055],\n",
       "       [30.4117  ],\n",
       "       [30.508482],\n",
       "       [30.529089],\n",
       "       [30.534426],\n",
       "       [30.550594],\n",
       "       [30.601683],\n",
       "       [30.545477],\n",
       "       [30.482153],\n",
       "       [30.530851],\n",
       "       [30.725912],\n",
       "       [30.772017],\n",
       "       [30.82911 ],\n",
       "       [30.821524],\n",
       "       [30.770466],\n",
       "       [30.66807 ],\n",
       "       [30.60206 ],\n",
       "       [30.534163],\n",
       "       [30.402834],\n",
       "       [30.38108 ],\n",
       "       [30.355297],\n",
       "       [30.425903],\n",
       "       [30.54201 ],\n",
       "       [30.73522 ],\n",
       "       [30.866394],\n",
       "       [31.020376],\n",
       "       [31.588017],\n",
       "       [32.274666],\n",
       "       [32.591908],\n",
       "       [32.66252 ],\n",
       "       [32.534218],\n",
       "       [32.582672],\n",
       "       [32.89201 ],\n",
       "       [33.04225 ],\n",
       "       [33.031155],\n",
       "       [33.049976],\n",
       "       [33.244884],\n",
       "       [33.369495],\n",
       "       [33.359455],\n",
       "       [33.89501 ],\n",
       "       [33.75356 ],\n",
       "       [33.149326],\n",
       "       [32.736057]], dtype=float32)"
      ]
     },
     "execution_count": 33,
     "metadata": {
      "tags": []
     },
     "output_type": "execute_result"
    }
   ],
   "source": [
    "model.predict(X_test_sc)"
   ]
  },
  {
   "cell_type": "code",
   "execution_count": null,
   "metadata": {
    "colab": {
     "base_uri": "https://localhost:8080/",
     "height": 282
    },
    "colab_type": "code",
    "id": "uWvIZkdPcWCp",
    "outputId": "bdda4cf1-330f-4ff8-a2da-d30d011042fc"
   },
   "outputs": [
    {
     "data": {
      "text/plain": [
       "[<matplotlib.lines.Line2D at 0x7f6a16951a20>]"
      ]
     },
     "execution_count": 34,
     "metadata": {
      "tags": []
     },
     "output_type": "execute_result"
    },
    {
     "data": {
      "image/png": "[encoded data removed]",
      "text/plain": [
       "<Figure size 432x288 with 1 Axes>"
      ]
     },
     "metadata": {
      "needs_background": "light",
      "tags": []
     },
     "output_type": "display_data"
    }
   ],
   "source": [
    "plt.plot(range(len(X_test_sc)),model.predict(X_test_sc).flat)\n",
    "plt.plot(range(len(X_test_sc)),y_test)"
   ]
  },
  {
   "cell_type": "code",
   "execution_count": null,
   "metadata": {
    "colab": {
     "base_uri": "https://localhost:8080/",
     "height": 151
    },
    "colab_type": "code",
    "id": "UP7FpCGoccI_",
    "outputId": "641d5b8b-acb2-4406-ec7c-d04fc889251b"
   },
   "outputs": [
    {
     "data": {
      "text/plain": [
       "array([[[-2.34092839],\n",
       "        [-2.34954981],\n",
       "        [-2.26086844],\n",
       "        [-2.19726994],\n",
       "        [-2.20673369],\n",
       "        [-2.25233077],\n",
       "        [-2.24936232],\n",
       "        [-2.07122018]]])"
      ]
     },
     "execution_count": 35,
     "metadata": {
      "tags": []
     },
     "output_type": "execute_result"
    }
   ],
   "source": [
    "X_test_sc[0].reshape(1,8,1)"
   ]
  },
  {
   "cell_type": "code",
   "execution_count": null,
   "metadata": {
    "colab": {
     "base_uri": "https://localhost:8080/",
     "height": 34
    },
    "colab_type": "code",
    "id": "Ev59pzYUcj9a",
    "outputId": "85817b53-e921-4875-edfd-19c4c8fc1f44"
   },
   "outputs": [
    {
     "data": {
      "text/plain": [
       "array([[29.719545]], dtype=float32)"
      ]
     },
     "execution_count": 36,
     "metadata": {
      "tags": []
     },
     "output_type": "execute_result"
    }
   ],
   "source": [
    "model.predict(X_test_sc[0].reshape(1,8,1))"
   ]
  },
  {
   "cell_type": "code",
   "execution_count": null,
   "metadata": {
    "colab": {
     "base_uri": "https://localhost:8080/",
     "height": 34
    },
    "colab_type": "code",
    "id": "Ic3NPnhTcqAU",
    "outputId": "bc197e4a-719d-4ffd-8314-5bf98de6ce77"
   },
   "outputs": [
    {
     "data": {
      "text/plain": [
       "29.04"
      ]
     },
     "execution_count": 37,
     "metadata": {
      "tags": []
     },
     "output_type": "execute_result"
    }
   ],
   "source": [
    "y_test[1000]"
   ]
  },
  {
   "cell_type": "code",
   "execution_count": null,
   "metadata": {
    "colab": {
     "base_uri": "https://localhost:8080/",
     "height": 252
    },
    "colab_type": "code",
    "id": "4uDD4awxcuHA",
    "outputId": "b023d92d-bbd1-44c9-a317-316696c98543"
   },
   "outputs": [
    {
     "name": "stdout",
     "output_type": "stream",
     "text": [
      "Model: \"sequential_2\"\n",
      "_________________________________________________________________\n",
      "Layer (type)                 Output Shape              Param #   \n",
      "=================================================================\n",
      "lstm_2 (LSTM)                (None, 250)               252000    \n",
      "_________________________________________________________________\n",
      "dropout_1 (Dropout)          (None, 250)               0         \n",
      "_________________________________________________________________\n",
      "dense_2 (Dense)              (None, 1)                 251       \n",
      "=================================================================\n",
      "Total params: 252,251\n",
      "Trainable params: 252,251\n",
      "Non-trainable params: 0\n",
      "_________________________________________________________________\n"
     ]
    }
   ],
   "source": [
    "from keras.models import Sequential\n",
    "from keras.layers import Dense,Dropout,LSTM\n",
    "model2 = Sequential()\n",
    "# 250 cels\n",
    "model2.add(LSTM(250,input_shape=(8,1)))\n",
    "model2.add(Dropout(0.3))\n",
    "# single neuron\n",
    "model2.add(Dense(1))\n",
    "model2.summary()"
   ]
  },
  {
   "cell_type": "code",
   "execution_count": null,
   "metadata": {
    "colab": {},
    "colab_type": "code",
    "id": "SwnLD70odP2C"
   },
   "outputs": [],
   "source": [
    "model2.compile(optimizer='adam',loss='mse')\n"
   ]
  },
  {
   "cell_type": "code",
   "execution_count": null,
   "metadata": {
    "colab": {
     "base_uri": "https://localhost:8080/",
     "height": 1000
    },
    "colab_type": "code",
    "id": "0GYFgczqdnMj",
    "outputId": "d9ff3efe-e5fc-4d54-9d34-960eba507f3a"
   },
   "outputs": [
    {
     "name": "stdout",
     "output_type": "stream",
     "text": [
      "Train on 1000 samples, validate on 250 samples\n",
      "Epoch 1/100\n",
      "1000/1000 [==============================] - 1s 1ms/step - loss: 1453.1891 - val_loss: 79.5781\n",
      "Epoch 2/100\n",
      "1000/1000 [==============================] - 1s 960us/step - loss: 331.7975 - val_loss: 3.8527\n",
      "Epoch 3/100\n",
      "1000/1000 [==============================] - 1s 961us/step - loss: 132.9067 - val_loss: 48.6460\n",
      "Epoch 4/100\n",
      "1000/1000 [==============================] - 1s 966us/step - loss: 67.8754 - val_loss: 106.9826\n",
      "Epoch 5/100\n",
      "1000/1000 [==============================] - 1s 979us/step - loss: 52.8359 - val_loss: 144.4759\n",
      "Epoch 6/100\n",
      "1000/1000 [==============================] - 1s 978us/step - loss: 47.5224 - val_loss: 162.9970\n",
      "Epoch 7/100\n",
      "1000/1000 [==============================] - 1s 977us/step - loss: 47.3905 - val_loss: 169.0671\n",
      "Epoch 8/100\n",
      "1000/1000 [==============================] - 1s 977us/step - loss: 48.6466 - val_loss: 172.7872\n",
      "Epoch 9/100\n",
      "1000/1000 [==============================] - 1s 963us/step - loss: 47.8051 - val_loss: 169.4956\n",
      "Epoch 10/100\n",
      "1000/1000 [==============================] - 1s 958us/step - loss: 47.8359 - val_loss: 171.5728\n",
      "Epoch 11/100\n",
      "1000/1000 [==============================] - 1s 954us/step - loss: 47.2657 - val_loss: 168.9803\n",
      "Epoch 12/100\n",
      "1000/1000 [==============================] - 1s 965us/step - loss: 47.3453 - val_loss: 170.2396\n",
      "Epoch 13/100\n",
      "1000/1000 [==============================] - 1s 951us/step - loss: 47.1204 - val_loss: 166.5475\n",
      "Epoch 14/100\n",
      "1000/1000 [==============================] - 1s 957us/step - loss: 47.0939 - val_loss: 168.1952\n",
      "Epoch 15/100\n",
      "1000/1000 [==============================] - 1s 953us/step - loss: 45.9490 - val_loss: 166.1320\n",
      "Epoch 16/100\n",
      "1000/1000 [==============================] - 1s 942us/step - loss: 45.5277 - val_loss: 164.0273\n",
      "Epoch 17/100\n",
      "1000/1000 [==============================] - 1s 967us/step - loss: 43.9752 - val_loss: 161.3669\n",
      "Epoch 18/100\n",
      "1000/1000 [==============================] - 1s 954us/step - loss: 42.1580 - val_loss: 150.6742\n",
      "Epoch 19/100\n",
      "1000/1000 [==============================] - 1s 966us/step - loss: 40.8433 - val_loss: 148.7867\n",
      "Epoch 20/100\n",
      "1000/1000 [==============================] - 1s 978us/step - loss: 37.3251 - val_loss: 145.7624\n",
      "Epoch 21/100\n",
      "1000/1000 [==============================] - 1s 949us/step - loss: 37.1020 - val_loss: 138.7952\n",
      "Epoch 22/100\n",
      "1000/1000 [==============================] - 1s 946us/step - loss: 33.5946 - val_loss: 125.8302\n",
      "Epoch 23/100\n",
      "1000/1000 [==============================] - 1s 950us/step - loss: 29.4565 - val_loss: 115.7377\n",
      "Epoch 24/100\n",
      "1000/1000 [==============================] - 1s 974us/step - loss: 24.7758 - val_loss: 78.3359\n",
      "Epoch 25/100\n",
      "1000/1000 [==============================] - 1s 961us/step - loss: 17.8319 - val_loss: 31.8474\n",
      "Epoch 26/100\n",
      "1000/1000 [==============================] - 1s 959us/step - loss: 12.9525 - val_loss: 11.2131\n",
      "Epoch 27/100\n",
      "1000/1000 [==============================] - 1s 948us/step - loss: 9.8869 - val_loss: 9.6466\n",
      "Epoch 28/100\n",
      "1000/1000 [==============================] - 1s 959us/step - loss: 9.5974 - val_loss: 1.0640\n",
      "Epoch 29/100\n",
      "1000/1000 [==============================] - 1s 948us/step - loss: 7.9437 - val_loss: 7.7994\n",
      "Epoch 30/100\n",
      "1000/1000 [==============================] - 1s 948us/step - loss: 8.0393 - val_loss: 2.2111\n",
      "Epoch 31/100\n",
      "1000/1000 [==============================] - 1s 960us/step - loss: 7.4524 - val_loss: 3.4372\n",
      "Epoch 32/100\n",
      "1000/1000 [==============================] - 1s 955us/step - loss: 7.3818 - val_loss: 7.8003\n",
      "Epoch 33/100\n",
      "1000/1000 [==============================] - 1s 973us/step - loss: 7.8325 - val_loss: 1.6528\n",
      "Epoch 34/100\n",
      "1000/1000 [==============================] - 1s 954us/step - loss: 8.4002 - val_loss: 2.4786\n",
      "Epoch 35/100\n",
      "1000/1000 [==============================] - 1s 952us/step - loss: 7.2845 - val_loss: 1.2607\n",
      "Epoch 36/100\n",
      "1000/1000 [==============================] - 1s 989us/step - loss: 7.0648 - val_loss: 5.9837\n",
      "Epoch 37/100\n",
      "1000/1000 [==============================] - 1s 972us/step - loss: 7.6212 - val_loss: 2.6940\n",
      "Epoch 38/100\n",
      "1000/1000 [==============================] - 1s 957us/step - loss: 6.8822 - val_loss: 1.5023\n",
      "Epoch 39/100\n",
      "1000/1000 [==============================] - 1s 969us/step - loss: 7.4509 - val_loss: 0.7370\n",
      "Epoch 40/100\n",
      "1000/1000 [==============================] - 1s 981us/step - loss: 7.2734 - val_loss: 0.8068\n",
      "Epoch 41/100\n",
      "1000/1000 [==============================] - 1s 943us/step - loss: 6.7369 - val_loss: 0.6640\n",
      "Epoch 42/100\n",
      "1000/1000 [==============================] - 1s 957us/step - loss: 6.9123 - val_loss: 0.8381\n",
      "Epoch 43/100\n",
      "1000/1000 [==============================] - 1s 955us/step - loss: 6.8990 - val_loss: 1.0091\n",
      "Epoch 44/100\n",
      "1000/1000 [==============================] - 1s 972us/step - loss: 6.2948 - val_loss: 1.0937\n",
      "Epoch 45/100\n",
      "1000/1000 [==============================] - 1s 963us/step - loss: 6.3813 - val_loss: 0.5982\n",
      "Epoch 46/100\n",
      "1000/1000 [==============================] - 1s 967us/step - loss: 6.8754 - val_loss: 1.6099\n",
      "Epoch 47/100\n",
      "1000/1000 [==============================] - 1s 991us/step - loss: 7.0276 - val_loss: 0.7721\n",
      "Epoch 48/100\n",
      "1000/1000 [==============================] - 1s 963us/step - loss: 6.5652 - val_loss: 3.5349\n",
      "Epoch 49/100\n",
      "1000/1000 [==============================] - 1s 955us/step - loss: 7.0802 - val_loss: 1.3309\n",
      "Epoch 50/100\n",
      "1000/1000 [==============================] - 1s 949us/step - loss: 6.4251 - val_loss: 1.8682\n",
      "Epoch 51/100\n",
      "1000/1000 [==============================] - 1s 968us/step - loss: 6.2148 - val_loss: 1.2468\n",
      "Epoch 52/100\n",
      "1000/1000 [==============================] - 1s 957us/step - loss: 6.4333 - val_loss: 0.5899\n",
      "Epoch 53/100\n",
      "1000/1000 [==============================] - 1s 961us/step - loss: 6.1080 - val_loss: 2.5501\n",
      "Epoch 54/100\n",
      "1000/1000 [==============================] - 1s 968us/step - loss: 6.1923 - val_loss: 1.4517\n",
      "Epoch 55/100\n",
      "1000/1000 [==============================] - 1s 974us/step - loss: 6.5822 - val_loss: 0.8294\n",
      "Epoch 56/100\n",
      "1000/1000 [==============================] - 1s 978us/step - loss: 6.0919 - val_loss: 1.3454\n",
      "Epoch 57/100\n",
      "1000/1000 [==============================] - 1s 963us/step - loss: 5.9335 - val_loss: 0.4499\n",
      "Epoch 58/100\n",
      "1000/1000 [==============================] - 1s 989us/step - loss: 5.9784 - val_loss: 0.8928\n",
      "Epoch 59/100\n",
      "1000/1000 [==============================] - 1s 958us/step - loss: 6.0332 - val_loss: 0.6787\n",
      "Epoch 60/100\n",
      "1000/1000 [==============================] - 1s 960us/step - loss: 6.3622 - val_loss: 8.3321\n",
      "Epoch 61/100\n",
      "1000/1000 [==============================] - 1s 959us/step - loss: 7.3666 - val_loss: 0.4593\n",
      "Epoch 62/100\n",
      "1000/1000 [==============================] - 1s 971us/step - loss: 6.0291 - val_loss: 0.6305\n",
      "Epoch 63/100\n",
      "1000/1000 [==============================] - 1s 977us/step - loss: 5.9482 - val_loss: 0.8818\n",
      "Epoch 64/100\n",
      "1000/1000 [==============================] - 1s 966us/step - loss: 6.2350 - val_loss: 1.2259\n",
      "Epoch 65/100\n",
      "1000/1000 [==============================] - 1s 966us/step - loss: 6.7739 - val_loss: 2.6441\n",
      "Epoch 66/100\n",
      "1000/1000 [==============================] - 1s 981us/step - loss: 6.2937 - val_loss: 0.4642\n",
      "Epoch 67/100\n",
      "1000/1000 [==============================] - 1s 964us/step - loss: 5.8805 - val_loss: 0.4722\n",
      "Epoch 68/100\n",
      "1000/1000 [==============================] - 1s 979us/step - loss: 5.9141 - val_loss: 1.4048\n",
      "Epoch 69/100\n",
      "1000/1000 [==============================] - 1s 996us/step - loss: 5.5974 - val_loss: 0.5082\n",
      "Epoch 70/100\n",
      "1000/1000 [==============================] - 1s 971us/step - loss: 5.7484 - val_loss: 1.0902\n",
      "Epoch 71/100\n",
      "1000/1000 [==============================] - 1s 985us/step - loss: 4.9587 - val_loss: 0.4616\n",
      "Epoch 72/100\n",
      "1000/1000 [==============================] - 1s 963us/step - loss: 5.1995 - val_loss: 0.5356\n",
      "Epoch 73/100\n",
      "1000/1000 [==============================] - 1s 965us/step - loss: 5.0632 - val_loss: 0.5688\n",
      "Epoch 74/100\n",
      "1000/1000 [==============================] - 1s 971us/step - loss: 5.3110 - val_loss: 1.1183\n",
      "Epoch 75/100\n",
      "1000/1000 [==============================] - 1s 960us/step - loss: 5.5810 - val_loss: 0.7961\n",
      "Epoch 76/100\n",
      "1000/1000 [==============================] - 1s 968us/step - loss: 5.5799 - val_loss: 0.3517\n",
      "Epoch 77/100\n",
      "1000/1000 [==============================] - 1s 973us/step - loss: 5.5704 - val_loss: 0.8426\n",
      "Epoch 78/100\n",
      "1000/1000 [==============================] - 1s 979us/step - loss: 5.1918 - val_loss: 1.3415\n",
      "Epoch 79/100\n",
      "1000/1000 [==============================] - 1s 974us/step - loss: 5.4775 - val_loss: 1.5609\n",
      "Epoch 80/100\n",
      "1000/1000 [==============================] - 1s 992us/step - loss: 5.1447 - val_loss: 1.2854\n",
      "Epoch 81/100\n",
      "1000/1000 [==============================] - 1s 979us/step - loss: 4.9383 - val_loss: 0.3109\n",
      "Epoch 82/100\n",
      "1000/1000 [==============================] - 1s 977us/step - loss: 5.6414 - val_loss: 0.8147\n",
      "Epoch 83/100\n",
      "1000/1000 [==============================] - 1s 989us/step - loss: 5.6034 - val_loss: 0.8977\n",
      "Epoch 84/100\n",
      "1000/1000 [==============================] - 1s 977us/step - loss: 4.9222 - val_loss: 0.2935\n",
      "Epoch 85/100\n",
      "1000/1000 [==============================] - 1s 976us/step - loss: 4.8929 - val_loss: 0.9574\n",
      "Epoch 86/100\n",
      "1000/1000 [==============================] - 1s 981us/step - loss: 4.9865 - val_loss: 0.2950\n",
      "Epoch 87/100\n",
      "1000/1000 [==============================] - 1s 960us/step - loss: 5.0623 - val_loss: 0.4226\n",
      "Epoch 88/100\n",
      "1000/1000 [==============================] - 1s 957us/step - loss: 5.1434 - val_loss: 0.5634\n",
      "Epoch 89/100\n",
      "1000/1000 [==============================] - 1s 981us/step - loss: 4.8787 - val_loss: 1.0607\n",
      "Epoch 90/100\n",
      "1000/1000 [==============================] - 1s 966us/step - loss: 5.1591 - val_loss: 0.2522\n",
      "Epoch 91/100\n",
      "1000/1000 [==============================] - 1s 984us/step - loss: 4.9606 - val_loss: 0.4681\n",
      "Epoch 92/100\n",
      "1000/1000 [==============================] - 1s 965us/step - loss: 5.4567 - val_loss: 0.5223\n",
      "Epoch 93/100\n",
      "1000/1000 [==============================] - 1s 981us/step - loss: 5.1527 - val_loss: 0.5458\n",
      "Epoch 94/100\n",
      "1000/1000 [==============================] - 1s 968us/step - loss: 5.7372 - val_loss: 0.7603\n",
      "Epoch 95/100\n",
      "1000/1000 [==============================] - 1s 969us/step - loss: 5.5458 - val_loss: 2.5993\n",
      "Epoch 96/100\n",
      "1000/1000 [==============================] - 1s 963us/step - loss: 4.8273 - val_loss: 0.3261\n",
      "Epoch 97/100\n",
      "1000/1000 [==============================] - 1s 965us/step - loss: 4.6356 - val_loss: 0.3528\n",
      "Epoch 98/100\n",
      "1000/1000 [==============================] - 1s 972us/step - loss: 4.8528 - val_loss: 0.2434\n",
      "Epoch 99/100\n",
      "1000/1000 [==============================] - 1s 983us/step - loss: 5.2621 - val_loss: 0.2497\n",
      "Epoch 100/100\n",
      "1000/1000 [==============================] - 1s 984us/step - loss: 5.3779 - val_loss: 0.2715\n"
     ]
    }
   ],
   "source": [
    "history2 = model2.fit(X_train_sc,y_train,epochs=100,validation_data=(X_test_sc,y_test))"
   ]
  },
  {
   "cell_type": "code",
   "execution_count": null,
   "metadata": {
    "colab": {
     "base_uri": "https://localhost:8080/",
     "height": 282
    },
    "colab_type": "code",
    "id": "RpjizL4peE2q",
    "outputId": "29aa1db7-77df-454c-b4f7-df12fe0d68b3"
   },
   "outputs": [
    {
     "data": {
      "text/plain": [
       "[<matplotlib.lines.Line2D at 0x7f6a16629d68>]"
      ]
     },
     "execution_count": 41,
     "metadata": {
      "tags": []
     },
     "output_type": "execute_result"
    },
    {
     "data": {
      "image/png": "[encoded data removed]",
      "text/plain": [
       "<Figure size 432x288 with 1 Axes>"
      ]
     },
     "metadata": {
      "needs_background": "light",
      "tags": []
     },
     "output_type": "display_data"
    }
   ],
   "source": [
    "tr_loss = history2.history['loss']\n",
    "val_loss = history2.history['val_loss']\n",
    "ep = list(range(1,101))\n",
    "plt.plot(ep,tr_loss,color='r')\n",
    "plt.plot(ep,val_loss,color='b')"
   ]
  },
  {
   "cell_type": "code",
   "execution_count": null,
   "metadata": {
    "colab": {
     "base_uri": "https://localhost:8080/",
     "height": 1000
    },
    "colab_type": "code",
    "id": "xpbHBZHLebGz",
    "outputId": "f9a30f70-13c4-432c-d70f-47574304aac3"
   },
   "outputs": [
    {
     "data": {
      "text/plain": [
       "array([[29.71954 ],\n",
       "       [29.795204],\n",
       "       [29.913649],\n",
       "       [30.00442 ],\n",
       "       [30.289612],\n",
       "       [30.45243 ],\n",
       "       [30.502684],\n",
       "       [30.610018],\n",
       "       [30.681866],\n",
       "       [30.724665],\n",
       "       [30.827076],\n",
       "       [30.91192 ],\n",
       "       [30.857706],\n",
       "       [30.836216],\n",
       "       [30.765888],\n",
       "       [30.586956],\n",
       "       [30.531645],\n",
       "       [30.57952 ],\n",
       "       [30.498362],\n",
       "       [30.55208 ],\n",
       "       [30.55098 ],\n",
       "       [30.521479],\n",
       "       [30.447777],\n",
       "       [30.404919],\n",
       "       [30.326199],\n",
       "       [30.390844],\n",
       "       [30.383293],\n",
       "       [30.462788],\n",
       "       [30.295288],\n",
       "       [30.169695],\n",
       "       [30.088388],\n",
       "       [29.978638],\n",
       "       [29.83427 ],\n",
       "       [29.950829],\n",
       "       [29.967518],\n",
       "       [30.10419 ],\n",
       "       [30.19788 ],\n",
       "       [30.179533],\n",
       "       [30.122475],\n",
       "       [30.02218 ],\n",
       "       [29.88971 ],\n",
       "       [29.767769],\n",
       "       [29.641245],\n",
       "       [29.55053 ],\n",
       "       [29.444567],\n",
       "       [29.372942],\n",
       "       [29.312428],\n",
       "       [29.268267],\n",
       "       [29.168371],\n",
       "       [29.130064],\n",
       "       [29.055244],\n",
       "       [29.115229],\n",
       "       [29.095816],\n",
       "       [29.193012],\n",
       "       [29.29432 ],\n",
       "       [29.43897 ],\n",
       "       [29.432598],\n",
       "       [29.426607],\n",
       "       [29.339127],\n",
       "       [29.220371],\n",
       "       [29.237402],\n",
       "       [29.27321 ],\n",
       "       [29.249699],\n",
       "       [29.323313],\n",
       "       [29.370409],\n",
       "       [29.361387],\n",
       "       [29.446547],\n",
       "       [29.495378],\n",
       "       [29.291553],\n",
       "       [29.265009],\n",
       "       [29.231937],\n",
       "       [29.147837],\n",
       "       [29.077099],\n",
       "       [29.114475],\n",
       "       [29.10323 ],\n",
       "       [29.106445],\n",
       "       [29.193762],\n",
       "       [29.243633],\n",
       "       [29.309755],\n",
       "       [29.353407],\n",
       "       [29.297958],\n",
       "       [29.27035 ],\n",
       "       [29.271368],\n",
       "       [29.216131],\n",
       "       [29.130463],\n",
       "       [29.18856 ],\n",
       "       [29.173315],\n",
       "       [29.094124],\n",
       "       [29.073416],\n",
       "       [29.203968],\n",
       "       [29.337463],\n",
       "       [29.352268],\n",
       "       [29.311863],\n",
       "       [29.306612],\n",
       "       [29.362715],\n",
       "       [29.541187],\n",
       "       [29.638983],\n",
       "       [29.838112],\n",
       "       [29.972872],\n",
       "       [29.9676  ],\n",
       "       [29.979538],\n",
       "       [29.867115],\n",
       "       [29.735676],\n",
       "       [29.736181],\n",
       "       [29.750372],\n",
       "       [29.768587],\n",
       "       [29.851574],\n",
       "       [29.978165],\n",
       "       [30.110062],\n",
       "       [30.19289 ],\n",
       "       [30.248327],\n",
       "       [30.308502],\n",
       "       [30.3476  ],\n",
       "       [30.677807],\n",
       "       [30.910213],\n",
       "       [31.22968 ],\n",
       "       [31.331331],\n",
       "       [31.433123],\n",
       "       [31.444952],\n",
       "       [31.49974 ],\n",
       "       [32.00458 ],\n",
       "       [32.45908 ],\n",
       "       [32.599316],\n",
       "       [32.759117],\n",
       "       [32.988087],\n",
       "       [33.03544 ],\n",
       "       [33.023613],\n",
       "       [32.719734],\n",
       "       [32.600986],\n",
       "       [32.715588],\n",
       "       [32.82764 ],\n",
       "       [32.92152 ],\n",
       "       [32.7975  ],\n",
       "       [32.58411 ],\n",
       "       [32.394623],\n",
       "       [32.36841 ],\n",
       "       [32.454803],\n",
       "       [32.567398],\n",
       "       [32.71383 ],\n",
       "       [32.83881 ],\n",
       "       [32.898098],\n",
       "       [32.954243],\n",
       "       [32.97811 ],\n",
       "       [33.08815 ],\n",
       "       [33.00179 ],\n",
       "       [32.94066 ],\n",
       "       [32.826008],\n",
       "       [32.640915],\n",
       "       [32.695953],\n",
       "       [33.00576 ],\n",
       "       [33.163017],\n",
       "       [33.272663],\n",
       "       [33.30157 ],\n",
       "       [33.190296],\n",
       "       [33.16679 ],\n",
       "       [33.323975],\n",
       "       [33.438175],\n",
       "       [33.561264],\n",
       "       [33.69113 ],\n",
       "       [33.948315],\n",
       "       [34.207382],\n",
       "       [34.312405],\n",
       "       [34.12443 ],\n",
       "       [34.058956],\n",
       "       [33.918503],\n",
       "       [33.72814 ],\n",
       "       [33.681026],\n",
       "       [33.635693],\n",
       "       [33.47983 ],\n",
       "       [33.416954],\n",
       "       [33.413376],\n",
       "       [33.39622 ],\n",
       "       [33.491592],\n",
       "       [33.59284 ],\n",
       "       [33.517773],\n",
       "       [33.492207],\n",
       "       [33.594913],\n",
       "       [33.767525],\n",
       "       [33.824654],\n",
       "       [33.908154],\n",
       "       [33.83186 ],\n",
       "       [32.884212],\n",
       "       [32.258892],\n",
       "       [31.910282],\n",
       "       [31.691824],\n",
       "       [31.486778],\n",
       "       [31.109417],\n",
       "       [30.76137 ],\n",
       "       [30.551403],\n",
       "       [30.26178 ],\n",
       "       [30.235392],\n",
       "       [30.189104],\n",
       "       [30.1434  ],\n",
       "       [29.902868],\n",
       "       [29.741673],\n",
       "       [29.61208 ],\n",
       "       [29.48801 ],\n",
       "       [29.417536],\n",
       "       [29.42749 ],\n",
       "       [29.439262],\n",
       "       [29.429237],\n",
       "       [29.479403],\n",
       "       [29.445293],\n",
       "       [29.593493],\n",
       "       [29.771784],\n",
       "       [30.004066],\n",
       "       [30.225456],\n",
       "       [30.324055],\n",
       "       [30.4117  ],\n",
       "       [30.508482],\n",
       "       [30.529089],\n",
       "       [30.534426],\n",
       "       [30.550594],\n",
       "       [30.601683],\n",
       "       [30.545477],\n",
       "       [30.482153],\n",
       "       [30.530851],\n",
       "       [30.725912],\n",
       "       [30.772017],\n",
       "       [30.82911 ],\n",
       "       [30.821524],\n",
       "       [30.770466],\n",
       "       [30.66807 ],\n",
       "       [30.60206 ],\n",
       "       [30.534163],\n",
       "       [30.402834],\n",
       "       [30.38108 ],\n",
       "       [30.355297],\n",
       "       [30.425903],\n",
       "       [30.54201 ],\n",
       "       [30.73522 ],\n",
       "       [30.866394],\n",
       "       [31.020376],\n",
       "       [31.588017],\n",
       "       [32.274666],\n",
       "       [32.591908],\n",
       "       [32.66252 ],\n",
       "       [32.534218],\n",
       "       [32.582672],\n",
       "       [32.89201 ],\n",
       "       [33.04225 ],\n",
       "       [33.031155],\n",
       "       [33.049976],\n",
       "       [33.244884],\n",
       "       [33.369495],\n",
       "       [33.359455],\n",
       "       [33.89501 ],\n",
       "       [33.75356 ],\n",
       "       [33.149326],\n",
       "       [32.736057]], dtype=float32)"
      ]
     },
     "execution_count": 42,
     "metadata": {
      "tags": []
     },
     "output_type": "execute_result"
    }
   ],
   "source": [
    "model.predict(X_test_sc)"
   ]
  },
  {
   "cell_type": "code",
   "execution_count": null,
   "metadata": {
    "colab": {
     "base_uri": "https://localhost:8080/",
     "height": 282
    },
    "colab_type": "code",
    "id": "zm0MFzZMeoi7",
    "outputId": "7dbbcdbd-aaa4-4006-c343-930ab981716a"
   },
   "outputs": [
    {
     "data": {
      "text/plain": [
       "[<matplotlib.lines.Line2D at 0x7f6a166299e8>]"
      ]
     },
     "execution_count": 43,
     "metadata": {
      "tags": []
     },
     "output_type": "execute_result"
    },
    {
     "data": {
      "image/png": "[encoded data removed]",
      "text/plain": [
       "<Figure size 432x288 with 1 Axes>"
      ]
     },
     "metadata": {
      "needs_background": "light",
      "tags": []
     },
     "output_type": "display_data"
    }
   ],
   "source": [
    "plt.plot(range(len(X_test_sc)),model.predict(X_test_sc).flat)\n",
    "plt.plot(range(len(X_test_sc)),y_test)"
   ]
  },
  {
   "cell_type": "code",
   "execution_count": null,
   "metadata": {
    "colab": {
     "base_uri": "https://localhost:8080/",
     "height": 151
    },
    "colab_type": "code",
    "id": "RXwKppmzes5i",
    "outputId": "9368257a-acab-4c77-ec3f-dab5cef6725b"
   },
   "outputs": [
    {
     "data": {
      "text/plain": [
       "array([[[-2.34092839],\n",
       "        [-2.34954981],\n",
       "        [-2.26086844],\n",
       "        [-2.19726994],\n",
       "        [-2.20673369],\n",
       "        [-2.25233077],\n",
       "        [-2.24936232],\n",
       "        [-2.07122018]]])"
      ]
     },
     "execution_count": 44,
     "metadata": {
      "tags": []
     },
     "output_type": "execute_result"
    }
   ],
   "source": [
    "\n",
    "X_test_sc[0].reshape(1,8,1)"
   ]
  },
  {
   "cell_type": "code",
   "execution_count": null,
   "metadata": {
    "colab": {
     "base_uri": "https://localhost:8080/",
     "height": 34
    },
    "colab_type": "code",
    "id": "lr_P1zjzezEj",
    "outputId": "65463601-ede6-4734-b7ab-e865fc50e6ba"
   },
   "outputs": [
    {
     "data": {
      "text/plain": [
       "array([[29.719545]], dtype=float32)"
      ]
     },
     "execution_count": 45,
     "metadata": {
      "tags": []
     },
     "output_type": "execute_result"
    }
   ],
   "source": [
    "model.predict(X_test_sc[0].reshape(1,8,1))"
   ]
  },
  {
   "cell_type": "code",
   "execution_count": null,
   "metadata": {
    "colab": {
     "base_uri": "https://localhost:8080/",
     "height": 34
    },
    "colab_type": "code",
    "id": "IGhRLyl3e4UU",
    "outputId": "0bc56786-e5b3-4a3c-9ef8-ea87db869b1a"
   },
   "outputs": [
    {
     "data": {
      "text/plain": [
       "29.04"
      ]
     },
     "execution_count": 46,
     "metadata": {
      "tags": []
     },
     "output_type": "execute_result"
    }
   ],
   "source": [
    "y_test[1000]"
   ]
  }
 ],
 "metadata": {
  "colab": {
   "name": "stock price prediction.ipynb",
   "provenance": []
  },
  "kernelspec": {
   "display_name": "Python 3",
   "language": "python",
   "name": "python3"
  },
  "language_info": {
   "codemirror_mode": {
    "name": "ipython",
    "version": 3
   },
   "file_extension": ".py",
   "mimetype": "text/x-python",
   "name": "python",
   "nbconvert_exporter": "python",
   "pygments_lexer": "ipython3",
   "version": "3.7.4"
  }
 },
 "nbformat": 4,
 "nbformat_minor": 1
}
